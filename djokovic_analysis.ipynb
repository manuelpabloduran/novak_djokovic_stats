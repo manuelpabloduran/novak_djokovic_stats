{
 "cells": [
  {
   "attachments": {},
   "cell_type": "markdown",
   "metadata": {},
   "source": [
    "# Import Libraries"
   ]
  },
  {
   "cell_type": "code",
   "execution_count": null,
   "metadata": {},
   "outputs": [],
   "source": [
    "import pandas as pd\n",
    "import numpy as np\n",
    "import seaborn as sns\n",
    "import matplotlib.pyplot as plt\n",
    "\n",
    "# Set the style of the plot\n",
    "sns.set_style(\"whitegrid\")"
   ]
  },
  {
   "attachments": {},
   "cell_type": "markdown",
   "metadata": {},
   "source": [
    "# Import dataset"
   ]
  },
  {
   "cell_type": "code",
   "execution_count": null,
   "metadata": {},
   "outputs": [],
   "source": [
    "# Import dataframe\n",
    "df = pd.read_excel('novak_djokovic_historial.xlsx')"
   ]
  },
  {
   "attachments": {},
   "cell_type": "markdown",
   "metadata": {},
   "source": [
    "# Pre-processing"
   ]
  },
  {
   "cell_type": "code",
   "execution_count": null,
   "metadata": {},
   "outputs": [],
   "source": [
    "# Transform Date to datetime\n",
    "df['Date'] = pd.to_datetime(df['Date'].str.replace('‑', '-'), format='%d-%b-%Y')"
   ]
  },
  {
   "cell_type": "code",
   "execution_count": null,
   "metadata": {},
   "outputs": [],
   "source": [
    "# Clean result column before splitting\n",
    "df['Result'] = df['Result'].str.replace(r'\\([^)]*\\)', '').str.replace(r'\\[[^\\]]*\\]', '')"
   ]
  },
  {
   "cell_type": "code",
   "execution_count": null,
   "metadata": {},
   "outputs": [],
   "source": [
    "# Split winner from loser in column result\n",
    "split_columns = df['Result'].str.split(r'd\\.', expand=True)\n",
    "df['Winner'] = split_columns[0].str.replace('\\xa0', '')\n",
    "df['Loser'] = split_columns[1].str.replace('\\xa0', '')\n"
   ]
  },
  {
   "cell_type": "code",
   "execution_count": null,
   "metadata": {},
   "outputs": [],
   "source": [
    "# Create winner flag\n",
    "df['winner_flag'] = np.where(df['Winner'].str.contains('Djokovic'), 'Win', 'Lose')"
   ]
  },
  {
   "cell_type": "code",
   "execution_count": null,
   "metadata": {},
   "outputs": [],
   "source": [
    "# Count number of sets in the match\n",
    "df['sets_number'] = df['Score'].str.count('-')"
   ]
  },
  {
   "cell_type": "code",
   "execution_count": null,
   "metadata": {},
   "outputs": [],
   "source": [
    "# All history\n",
    "df.winner_flag.value_counts()"
   ]
  },
  {
   "cell_type": "code",
   "execution_count": null,
   "metadata": {},
   "outputs": [],
   "source": [
    "df.Tournament.sort_values().unique()"
   ]
  },
  {
   "cell_type": "code",
   "execution_count": null,
   "metadata": {},
   "outputs": [],
   "source": [
    "# Create column of grand_slam_flag\n",
    "grand_slams = ['Roland Garros','Australian Open', 'US Open','Wimbledon']\n",
    "df['grand_slam_flag'] = np.where(df['Tournament'].isin(grand_slams), True, False)"
   ]
  },
  {
   "cell_type": "code",
   "execution_count": null,
   "metadata": {},
   "outputs": [],
   "source": [
    "# Historial grand slams\n",
    "df[df['grand_slam_flag']]['winner_flag'].value_counts()"
   ]
  },
  {
   "attachments": {},
   "cell_type": "markdown",
   "metadata": {},
   "source": [
    "# Grand slam Analysis ##"
   ]
  },
  {
   "attachments": {},
   "cell_type": "markdown",
   "metadata": {},
   "source": [
    "## Historial general de partidos"
   ]
  },
  {
   "cell_type": "code",
   "execution_count": null,
   "metadata": {},
   "outputs": [],
   "source": [
    "df_grand_slam = df[df['grand_slam_flag']==True]"
   ]
  },
  {
   "cell_type": "code",
   "execution_count": null,
   "metadata": {},
   "outputs": [],
   "source": [
    "df_grand_slam_plot = df_grand_slam.groupby(['Tournament','winner_flag']).agg(result=('Winner','count')).reset_index()"
   ]
  },
  {
   "cell_type": "code",
   "execution_count": null,
   "metadata": {},
   "outputs": [],
   "source": [
    "# Calculate the total for each tournament\n",
    "df_grand_slam_plot['Total'] = df_grand_slam_plot.groupby('Tournament')['result'].transform('sum')\n",
    "\n",
    "# Calculate the percentage of Win and Lose for each tournament\n",
    "df_grand_slam_plot['WIN LOSE PERCENTAGE'] = df_grand_slam_plot['result']/df_grand_slam_plot['Total'] * 100\n",
    "\n",
    "# Check reuslts\n",
    "df_grand_slam_plot"
   ]
  },
  {
   "cell_type": "code",
   "execution_count": null,
   "metadata": {},
   "outputs": [],
   "source": [
    "df_grand_slam.winner_flag.value_counts()"
   ]
  },
  {
   "cell_type": "code",
   "execution_count": null,
   "metadata": {},
   "outputs": [],
   "source": [
    "# Define colours\n",
    "custom_palette = sns.color_palette([\"#CD5C5C\", \"#FFA07A\"])\n",
    "\n",
    "# Create the bar chart\n",
    "ax = sns.barplot(data=df_grand_slam_plot, x=\"Tournament\", y=\"WIN LOSE PERCENTAGE\", hue=\"winner_flag\", palette=custom_palette)\n",
    "\n",
    "# Add number labels to the bars with \" %\" format\n",
    "for p in ax.patches:\n",
    "    height = p.get_height()\n",
    "    ax.annotate(f\"{height:.1f} %\", (p.get_x() + p.get_width() / 2, height), ha=\"center\", va=\"bottom\")\n",
    "\n",
    "# Add labels and title\n",
    "plt.xlabel(\"GRAND SLAM\")\n",
    "plt.ylabel(\"WINNING %\")\n",
    "plt.title(\"WINNING % BY GRAND SLAM\")\n",
    "\n",
    "# Rotate x-axis labels if needed\n",
    "plt.xticks(rotation=45)\n",
    "\n",
    "# Move the legend outside the plot\n",
    "ax.legend(loc='center left', bbox_to_anchor=(1, 0.5))\n",
    "\n",
    "# Show the plot\n",
    "plt.show()"
   ]
  },
  {
   "cell_type": "code",
   "execution_count": null,
   "metadata": {},
   "outputs": [],
   "source": [
    "df_grand_slam"
   ]
  },
  {
   "attachments": {},
   "cell_type": "markdown",
   "metadata": {},
   "source": [
    "### Con quienes perdió mas partidos en GS"
   ]
  },
  {
   "cell_type": "code",
   "execution_count": null,
   "metadata": {},
   "outputs": [],
   "source": [
    "df_gs_loses = df_grand_slam[df_grand_slam['winner_flag'] == 'Lose']\n",
    "df_gs_loses_plot = df_gs_loses.groupby(['Winner']).agg(wins=('winner_flag','count')).reset_index().sort_values('wins', ascending=False)"
   ]
  },
  {
   "cell_type": "code",
   "execution_count": null,
   "metadata": {},
   "outputs": [],
   "source": [
    "df_gs_loses_plot"
   ]
  },
  {
   "cell_type": "code",
   "execution_count": null,
   "metadata": {},
   "outputs": [],
   "source": [
    "# Define colours\n",
    "custom_palette = sns.color_palette([\"#CD5C5C\"])\n",
    "\n",
    "# Set the figure size\n",
    "plt.figure(figsize=(18, 6))  # Adjust the width (10) and height (6) as desired\n",
    "\n",
    "# Create the bar chart\n",
    "ax = sns.barplot(data=df_gs_loses_plot, x=\"Winner\", y=\"wins\", palette=custom_palette)\n",
    "\n",
    "# Add number labels to the bars\n",
    "for p in ax.patches:\n",
    "    height = p.get_height()\n",
    "    ax.annotate(f\"{height:.0f}\", (p.get_x() + p.get_width() / 2, height), ha=\"center\", va=\"bottom\")\n",
    "\n",
    "# Add labels and title\n",
    "plt.xlabel(\"PLAYER\")\n",
    "plt.ylabel(\"LOSSES\")\n",
    "plt.title(\"GRAND SLAM LOSSES\")\n",
    "\n",
    "# Rotate x-axis labels if needed\n",
    "plt.xticks(rotation=45)\n",
    "\n",
    "# Move the legend outside the plot\n",
    "ax.legend(loc='center left', bbox_to_anchor=(1, 0.5))\n",
    "\n",
    "# Show the plot\n",
    "plt.show()"
   ]
  },
  {
   "cell_type": "code",
   "execution_count": null,
   "metadata": {},
   "outputs": [],
   "source": [
    "# Replicamos análisis para solamente ROLAND GARROS\n",
    "df_gs_loses = df_grand_slam[(df_grand_slam['winner_flag'] == 'Lose')&(df_grand_slam['Tournament'] == 'Roland Garros')]\n",
    "df_gs_loses_plot = df_gs_loses.groupby(['Winner']).agg(wins=('winner_flag','count')).reset_index().sort_values('wins', ascending=False)\n",
    "\n",
    "# Define colours\n",
    "custom_palette = sns.color_palette([\"#CD5C5C\"])\n",
    "\n",
    "# Set the figure size\n",
    "plt.figure(figsize=(18, 6))  # Adjust the width (10) and height (6) as desired\n",
    "\n",
    "# Create the bar chart\n",
    "ax = sns.barplot(data=df_gs_loses_plot, x=\"Winner\", y=\"wins\", palette=custom_palette)\n",
    "\n",
    "# Add number labels to the bars\n",
    "for p in ax.patches:\n",
    "    height = p.get_height()\n",
    "    ax.annotate(f\"{height:.0f}\", (p.get_x() + p.get_width() / 2, height), ha=\"center\", va=\"bottom\")\n",
    "\n",
    "# Add labels and title\n",
    "plt.xlabel(\"PLAYER\")\n",
    "plt.ylabel(\"LOSSES\")\n",
    "plt.title(\"ROLAND GARROS LOSSES\")\n",
    "\n",
    "# Rotate x-axis labels if needed\n",
    "plt.xticks(rotation=45)\n",
    "\n",
    "# Move the legend outside the plot\n",
    "ax.legend(loc='center left', bbox_to_anchor=(1, 0.5))\n",
    "\n",
    "# Show the plot\n",
    "plt.show()"
   ]
  },
  {
   "attachments": {},
   "cell_type": "markdown",
   "metadata": {},
   "source": [
    "# Mismo analisis para finales de GS"
   ]
  },
  {
   "cell_type": "code",
   "execution_count": null,
   "metadata": {},
   "outputs": [],
   "source": [
    "df_gs_finales = df[(df['grand_slam_flag']==True)&(df['Rd']=='F')]"
   ]
  },
  {
   "cell_type": "code",
   "execution_count": null,
   "metadata": {},
   "outputs": [],
   "source": [
    "df_gs_finales['winner_flag'].value_counts()"
   ]
  },
  {
   "cell_type": "code",
   "execution_count": null,
   "metadata": {},
   "outputs": [],
   "source": [
    "df_grand_slam_plot = df_gs_finales.groupby(['Tournament','winner_flag']).agg(result=('Winner','count')).reset_index()"
   ]
  },
  {
   "cell_type": "code",
   "execution_count": null,
   "metadata": {},
   "outputs": [],
   "source": [
    "# Calculate the total for each tournament\n",
    "df_grand_slam_plot['Total'] = df_grand_slam_plot.groupby('Tournament')['result'].transform('sum')\n",
    "\n",
    "# Calculate the percentage of Win and Lose for each tournament\n",
    "df_grand_slam_plot['WIN LOSE PERCENTAGE'] = df_grand_slam_plot['result']/df_grand_slam_plot['Total'] * 100\n",
    "\n",
    "# Check reuslts\n",
    "df_grand_slam_plot"
   ]
  },
  {
   "cell_type": "code",
   "execution_count": null,
   "metadata": {},
   "outputs": [],
   "source": [
    "# Define colours\n",
    "custom_palette = sns.color_palette([\"#CD5C5C\", \"#FFA07A\"])\n",
    "\n",
    "# Create the bar chart\n",
    "ax = sns.barplot(data=df_grand_slam_plot, x=\"Tournament\", y=\"result\", hue=\"winner_flag\", palette=custom_palette)\n",
    "\n",
    "# Add number labels to the bars with \" %\" format\n",
    "for p in ax.patches:\n",
    "    height = p.get_height()\n",
    "    ax.annotate(f\"{height:.0f}\", (p.get_x() + p.get_width() / 2, height), ha=\"center\", va=\"bottom\")\n",
    "\n",
    "# Add labels and title\n",
    "plt.xlabel(\"GRAND SLAM\")\n",
    "plt.ylabel(\"FINAL RESULTS\")\n",
    "plt.title(\"FINAL RESULTS BY GRAND SLAM\")\n",
    "\n",
    "# Rotate x-axis labels if needed\n",
    "plt.xticks(rotation=45)\n",
    "\n",
    "# Move the legend outside the plot\n",
    "ax.legend(loc='center left', bbox_to_anchor=(1, 0.5))\n",
    "\n",
    "# Show the plot\n",
    "plt.show()"
   ]
  },
  {
   "attachments": {},
   "cell_type": "markdown",
   "metadata": {},
   "source": [
    "### Con quienes perdió mas partidos en GS"
   ]
  },
  {
   "cell_type": "code",
   "execution_count": null,
   "metadata": {},
   "outputs": [],
   "source": [
    "df_gs_loses = df_gs_finales[df_gs_finales['winner_flag'] == 'Lose']\n",
    "df_gs_loses_plot = df_gs_loses.groupby(['Winner']).agg(wins=('winner_flag','count')).reset_index().sort_values('wins', ascending=False)"
   ]
  },
  {
   "cell_type": "code",
   "execution_count": null,
   "metadata": {},
   "outputs": [],
   "source": [
    "df_gs_loses_plot"
   ]
  },
  {
   "cell_type": "code",
   "execution_count": null,
   "metadata": {},
   "outputs": [],
   "source": [
    "# Define colours\n",
    "custom_palette = sns.color_palette([\"#CD5C5C\"])\n",
    "\n",
    "# Set the figure size\n",
    "plt.figure(figsize=(18, 6))  # Adjust the width (10) and height (6) as desired\n",
    "\n",
    "# Create the bar chart\n",
    "ax = sns.barplot(data=df_gs_loses_plot, x=\"Winner\", y=\"wins\", palette=custom_palette)\n",
    "\n",
    "# Add number labels to the bars\n",
    "for p in ax.patches:\n",
    "    height = p.get_height()\n",
    "    ax.annotate(f\"{height:.0f}\", (p.get_x() + p.get_width() / 2, height), ha=\"center\", va=\"bottom\")\n",
    "\n",
    "# Add labels and title\n",
    "plt.xlabel(\"PLAYER\")\n",
    "plt.ylabel(\"LOSSES\")\n",
    "plt.title(\"FINAL LOSSES IN GS\")\n",
    "\n",
    "# Rotate x-axis labels if needed\n",
    "plt.xticks(rotation=45)\n",
    "\n",
    "# Move the legend outside the plot\n",
    "ax.legend(loc='center left', bbox_to_anchor=(1, 0.5))\n",
    "\n",
    "# Show the plot\n",
    "plt.show()"
   ]
  },
  {
   "cell_type": "code",
   "execution_count": null,
   "metadata": {},
   "outputs": [],
   "source": [
    "df_grand_slam = df[df['grand_slam_flag']==True]"
   ]
  },
  {
   "cell_type": "code",
   "execution_count": null,
   "metadata": {},
   "outputs": [],
   "source": [
    "df_grand_slam_plot = df_grand_slam.groupby(['Tournament','winner_flag']).agg(result=('Winner','count')).reset_index()"
   ]
  },
  {
   "cell_type": "code",
   "execution_count": null,
   "metadata": {},
   "outputs": [],
   "source": [
    "# Calculate the total for each tournament\n",
    "df_grand_slam_plot['Total'] = df_grand_slam_plot.groupby('Tournament')['result'].transform('sum')\n",
    "\n",
    "# Calculate the percentage of Win and Lose for each tournament\n",
    "df_grand_slam_plot['WIN LOSE PERCENTAGE'] = df_grand_slam_plot['result']/df_grand_slam_plot['Total'] * 100\n",
    "\n",
    "# Check reuslts\n",
    "df_grand_slam_plot"
   ]
  },
  {
   "cell_type": "code",
   "execution_count": null,
   "metadata": {},
   "outputs": [],
   "source": [
    "# Define colours\n",
    "custom_palette = sns.color_palette([\"#CD5C5C\", \"#FFA07A\"])\n",
    "\n",
    "# Create the bar chart\n",
    "ax = sns.barplot(data=df_grand_slam_plot, x=\"Tournament\", y=\"WIN LOSE PERCENTAGE\", hue=\"winner_flag\", palette=custom_palette)\n",
    "\n",
    "# Add number labels to the bars with \" %\" format\n",
    "for p in ax.patches:\n",
    "    height = p.get_height()\n",
    "    ax.annotate(f\"{height:.1f} %\", (p.get_x() + p.get_width() / 2, height), ha=\"center\", va=\"bottom\")\n",
    "\n",
    "# Add labels and title\n",
    "plt.xlabel(\"GRAND SLAM\")\n",
    "plt.ylabel(\"WINNING %\")\n",
    "plt.title(\"WINNING % BY GRAND SLAM\")\n",
    "\n",
    "# Rotate x-axis labels if needed\n",
    "plt.xticks(rotation=45)\n",
    "\n",
    "# Move the legend outside the plot\n",
    "ax.legend(loc='center left', bbox_to_anchor=(1, 0.5))\n",
    "\n",
    "# Show the plot\n",
    "plt.show()"
   ]
  },
  {
   "attachments": {},
   "cell_type": "markdown",
   "metadata": {},
   "source": [
    "### Con quienes perdió mas partidos en GS"
   ]
  },
  {
   "cell_type": "code",
   "execution_count": null,
   "metadata": {},
   "outputs": [],
   "source": [
    "df_gs_loses = df_grand_slam[df_grand_slam['winner_flag'] == 'Lose']\n",
    "df_gs_loses_plot = df_gs_loses.groupby(['Winner']).agg(wins=('winner_flag','count')).reset_index().sort_values('wins', ascending=False)"
   ]
  },
  {
   "cell_type": "code",
   "execution_count": null,
   "metadata": {},
   "outputs": [],
   "source": [
    "df_gs_loses_plot"
   ]
  },
  {
   "cell_type": "code",
   "execution_count": null,
   "metadata": {},
   "outputs": [],
   "source": [
    "# Define colours\n",
    "custom_palette = sns.color_palette([\"#CD5C5C\"])\n",
    "\n",
    "# Set the figure size\n",
    "plt.figure(figsize=(18, 6))  # Adjust the width (10) and height (6) as desired\n",
    "\n",
    "# Create the bar chart\n",
    "ax = sns.barplot(data=df_gs_loses_plot, x=\"Winner\", y=\"wins\", palette=custom_palette)\n",
    "\n",
    "# Add number labels to the bars\n",
    "for p in ax.patches:\n",
    "    height = p.get_height()\n",
    "    ax.annotate(f\"{height:.0f}\", (p.get_x() + p.get_width() / 2, height), ha=\"center\", va=\"bottom\")\n",
    "\n",
    "# Add labels and title\n",
    "plt.xlabel(\"PLAYER\")\n",
    "plt.ylabel(\"LOSSES\")\n",
    "plt.title(\"GRAND SLAM LOSSES\")\n",
    "\n",
    "# Rotate x-axis labels if needed\n",
    "plt.xticks(rotation=45)\n",
    "\n",
    "# Move the legend outside the plot\n",
    "ax.legend(loc='center left', bbox_to_anchor=(1, 0.5))\n",
    "\n",
    "# Show the plot\n",
    "plt.show()"
   ]
  },
  {
   "attachments": {},
   "cell_type": "markdown",
   "metadata": {},
   "source": [
    "## Historial en finales de GS"
   ]
  },
  {
   "cell_type": "code",
   "execution_count": null,
   "metadata": {},
   "outputs": [],
   "source": [
    "df_gs_finales = df[(df['grand_slam_flag']==True)&(df['Rd']=='F')]"
   ]
  },
  {
   "cell_type": "code",
   "execution_count": null,
   "metadata": {},
   "outputs": [],
   "source": [
    "df_gs_finales.shape"
   ]
  },
  {
   "cell_type": "code",
   "execution_count": null,
   "metadata": {},
   "outputs": [],
   "source": [
    "df_gs_finales['rival'] = np.where(df_gs_finales['winner_flag']=='Win', df_gs_finales['Loser'], df_gs_finales['Winner'])"
   ]
  },
  {
   "cell_type": "code",
   "execution_count": null,
   "metadata": {},
   "outputs": [],
   "source": [
    "df_historial = df_gs_finales.groupby(['rival','winner_flag']).agg(historial=('Tournament','count')).reset_index().sort_values('rival')\n",
    "df_historial['total'] = df_historial.groupby(['rival'])['historial'].transform('sum')\n",
    "df_historial = df_historial.sort_values(by=['winner_flag'], ascending=False).sort_values(by=['total','rival'], ascending=False)"
   ]
  },
  {
   "cell_type": "code",
   "execution_count": null,
   "metadata": {},
   "outputs": [],
   "source": [
    "# Define colours\n",
    "custom_palette = sns.color_palette([\"#CD5C5C\", \"#FFA07A\"])\n",
    "\n",
    "# Adjust size\n",
    "plt.figure(figsize=(18, 6))  # Adjust the width (10) and height (6) as desired\n",
    "\n",
    "\n",
    "# Create the bar chart\n",
    "ax = sns.barplot(data=df_historial, x=\"rival\", y=\"historial\", hue=\"winner_flag\", palette=custom_palette)\n",
    "\n",
    "# Add number labels to the bars with \" %\" format\n",
    "for p in ax.patches:\n",
    "    height = p.get_height()\n",
    "    ax.annotate(f\"{height:.0f}\", (p.get_x() + p.get_width() / 2, height), ha=\"center\", va=\"bottom\")\n",
    "\n",
    "# Add labels and title\n",
    "plt.xlabel(\"RIVAL\")\n",
    "plt.ylabel(\"RECORD\")\n",
    "plt.title(\"RECORD IN GS FINALS BY PLAYER\")\n",
    "\n",
    "# Rotate x-axis labels if needed\n",
    "plt.xticks(rotation=45)\n",
    "\n",
    "# Move the legend outside the plot\n",
    "ax.legend(loc='center left', bbox_to_anchor=(1, 0.5))\n",
    "\n",
    "# Show the plot\n",
    "plt.show()"
   ]
  },
  {
   "attachments": {},
   "cell_type": "markdown",
   "metadata": {},
   "source": [
    "# Probabilidades por set"
   ]
  },
  {
   "cell_type": "code",
   "execution_count": null,
   "metadata": {},
   "outputs": [],
   "source": [
    "df_grand_slam = df[df['grand_slam_flag']==True]"
   ]
  },
  {
   "cell_type": "code",
   "execution_count": null,
   "metadata": {},
   "outputs": [],
   "source": [
    "df_grand_slam.winner_flag.value_counts()"
   ]
  },
  {
   "cell_type": "code",
   "execution_count": null,
   "metadata": {},
   "outputs": [],
   "source": [
    "df_sets = df_grand_slam.groupby(['winner_flag']).agg(general_score=('Tournament','count')).reset_index().sort_values(by='winner_flag', ascending=False)\n",
    "\n",
    "df_sets['total'] = df_sets['general_score'].sum()\n",
    "\n",
    "df_sets['general_percentage'] = df_sets['general_score']/df_sets['total'] * 100\n",
    "\n",
    "df_sets['STATE'] = 'TOTAL'\n",
    "\n",
    "df_sets"
   ]
  },
  {
   "cell_type": "code",
   "execution_count": null,
   "metadata": {},
   "outputs": [],
   "source": [
    "# flag de ganar el primer set\n",
    "# Split the string column on the first occurrence of '-'\n",
    "split_data = df_grand_slam['Score'].str.split('-', n=1, expand=True)\n",
    "\n",
    "# Extract the characters before '-' and save them in a new column\n",
    "df_grand_slam['games_1_first_set'] = split_data[0].str[-1]\n",
    "\n",
    "# Extract the characters after '-' and save them in another new column\n",
    "df_grand_slam['games_2_first_set'] = split_data[1].str[0]"
   ]
  },
  {
   "cell_type": "code",
   "execution_count": null,
   "metadata": {},
   "outputs": [],
   "source": [
    "condlist = [(df_grand_slam['games_1_first_set'] > df_grand_slam['games_2_first_set']) & (df_grand_slam['winner_flag']=='Win'),\n",
    "            (df_grand_slam['games_1_first_set'] < df_grand_slam['games_2_first_set']) & (df_grand_slam['winner_flag']=='Lose')]\n",
    "choicelist = [True, True]"
   ]
  },
  {
   "cell_type": "code",
   "execution_count": null,
   "metadata": {},
   "outputs": [],
   "source": [
    "df_grand_slam['first_set_winner'] = np.select(condlist, choicelist, False)"
   ]
  },
  {
   "cell_type": "code",
   "execution_count": null,
   "metadata": {},
   "outputs": [],
   "source": [
    "df_sets_1 = df_grand_slam[df_grand_slam['first_set_winner']==True].groupby(['winner_flag']).agg(general_score=('Tournament','count')).reset_index().sort_values(by='winner_flag', ascending=False)\n",
    "\n",
    "df_sets_1['total'] = df_sets_1['general_score'].sum()\n",
    "\n",
    "df_sets_1['general_percentage'] = df_sets_1['general_score']/df_sets_1['total'] * 100\n",
    "\n",
    "df_sets_1['STATE'] = 'FIRST SET WINNER'\n",
    "\n",
    "df_sets_1"
   ]
  },
  {
   "cell_type": "code",
   "execution_count": null,
   "metadata": {},
   "outputs": [],
   "source": [
    "# Analisis del ganador del segundo set\n",
    "# flag de ganar el segundo set\n",
    "# Split the string column on the first occurrence of '-'\n",
    "split_data = df_grand_slam['Score'].str.split('-', n=2, expand=True)\n",
    "\n",
    "# Extract the characters before '-' and save them in a new column\n",
    "df_grand_slam['games_1_second_set'] = split_data[1].str[-1]\n",
    "\n",
    "# Extract the characters after '-' and save them in another new column\n",
    "df_grand_slam['games_2_second_set'] = split_data[2].str[0]\n",
    "\n",
    "condlist = [(df_grand_slam['games_1_second_set'] > df_grand_slam['games_2_second_set']) & (df_grand_slam['winner_flag']=='Win'),\n",
    "            (df_grand_slam['games_1_second_set'] < df_grand_slam['games_2_second_set']) & (df_grand_slam['winner_flag']=='Lose')]\n",
    "choicelist = [True, True]\n",
    "\n",
    "df_grand_slam['second_set_winner'] = np.select(condlist, choicelist, False)"
   ]
  },
  {
   "cell_type": "code",
   "execution_count": null,
   "metadata": {},
   "outputs": [],
   "source": [
    "df_sets_2 = df_grand_slam[(df_grand_slam['first_set_winner']==True)&(df_grand_slam['second_set_winner']==True)].groupby(['winner_flag']).agg(general_score=('Tournament','count')).reset_index().sort_values(by='winner_flag', ascending=False)\n",
    "\n",
    "df_sets_2['total'] = df_sets_2['general_score'].sum()\n",
    "\n",
    "df_sets_2['general_percentage'] = df_sets_2['general_score']/df_sets_2['total'] * 100\n",
    "\n",
    "df_sets_2['STATE'] = 'FIRST 2 SETS WINNER'\n",
    "\n",
    "df_sets_2"
   ]
  },
  {
   "cell_type": "code",
   "execution_count": null,
   "metadata": {},
   "outputs": [],
   "source": [
    "df_sets_total = pd.concat([df_sets, df_sets_1, df_sets_2], ignore_index=True)\n",
    "\n",
    "# Print the concatenated DataFrame\n",
    "df_sets_total"
   ]
  },
  {
   "cell_type": "code",
   "execution_count": null,
   "metadata": {},
   "outputs": [],
   "source": [
    "# Define colours\n",
    "custom_palette = sns.color_palette([\"#CD5C5C\", \"#FFA07A\"])\n",
    "\n",
    "# Adjust size\n",
    "plt.figure(figsize=(18, 6))  # Adjust the width (10) and height (6) as desired\n",
    "\n",
    "\n",
    "# Create the bar chart\n",
    "ax = sns.barplot(data=df_sets_total, x=\"STATE\", y=\"general_percentage\", hue=\"winner_flag\", palette=custom_palette)\n",
    "\n",
    "# Add number labels to the bars with \" %\" format\n",
    "for p in ax.patches:\n",
    "    height = p.get_height()\n",
    "    ax.annotate(f\"{height:.1f} %\", (p.get_x() + p.get_width() / 2, height), ha=\"center\", va=\"bottom\")\n",
    "\n",
    "# Add labels and title\n",
    "plt.xlabel(\"CONDITION\")\n",
    "plt.ylabel(\"PERCENTAGE RECORD\")\n",
    "plt.title(\"RECORD PERCENTAGE IN GS\")\n",
    "\n",
    "# Rotate x-axis labels if needed\n",
    "plt.xticks(rotation=45)\n",
    "\n",
    "# Move the legend outside the plot\n",
    "ax.legend(loc='center left', bbox_to_anchor=(1, 0.5))\n",
    "\n",
    "# Show the plot\n",
    "plt.show()"
   ]
  },
  {
   "cell_type": "code",
   "execution_count": null,
   "metadata": {},
   "outputs": [],
   "source": [
    "# Unica derrota en su carrera con 2 sets a favor\n",
    "df_grand_slam[(df_grand_slam['first_set_winner']==True)&(df_grand_slam['second_set_winner']==True)&(df_grand_slam['winner_flag']=='Lose')]"
   ]
  }
 ],
 "metadata": {
  "kernelspec": {
   "display_name": "Python 3",
   "language": "python",
   "name": "python3"
  },
  "language_info": {
   "codemirror_mode": {
    "name": "ipython",
    "version": 3
   },
   "file_extension": ".py",
   "mimetype": "text/x-python",
   "name": "python",
   "nbconvert_exporter": "python",
   "pygments_lexer": "ipython3",
   "version": "3.10.5"
  },
  "orig_nbformat": 4
 },
 "nbformat": 4,
 "nbformat_minor": 2
}
